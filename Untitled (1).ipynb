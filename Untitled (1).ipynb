{
 "cells": [
  {
   "cell_type": "markdown",
   "id": "c413b774-3f84-4d8c-8113-9f43849e7e16",
   "metadata": {
    "tags": []
   },
   "source": [
    "### Here is My Title"
   ]
  },
  {
   "cell_type": "markdown",
   "id": "a7fa5420-6944-470e-b438-de4c5d16faff",
   "metadata": {},
   "source": [
    "**Group 1:** *Name, Name, Name*"
   ]
  },
  {
   "cell_type": "markdown",
   "id": "3c326dbe-37ee-4205-bb93-07bf63c5c123",
   "metadata": {},
   "source": [
    "Below is me practicing how to use markdown!"
   ]
  },
  {
   "cell_type": "markdown",
   "id": "4c4a32e2-5bc1-4528-9892-79c695886590",
   "metadata": {},
   "source": [
    "* Stuff in a list \n",
    "* Learning to make bullets\n",
    "- - - -  "
   ]
  },
  {
   "cell_type": "markdown",
   "id": "c99923a4-1bbb-4e8b-940a-3a89c5e6a5a9",
   "metadata": {},
   "source": [
    "Below is my code:"
   ]
  },
  {
   "cell_type": "code",
   "execution_count": 3,
   "id": "17f2e882-a910-4b0e-af33-af479c0edb8b",
   "metadata": {},
   "outputs": [
    {
     "data": {
      "text/plain": [
       "2"
      ]
     },
     "execution_count": 3,
     "metadata": {},
     "output_type": "execute_result"
    }
   ],
   "source": [
    "1+1"
   ]
  }
 ],
 "metadata": {
  "kernelspec": {
   "display_name": "Python 3 (ipykernel)",
   "language": "python",
   "name": "python3"
  },
  "language_info": {
   "codemirror_mode": {
    "name": "ipython",
    "version": 3
   },
   "file_extension": ".py",
   "mimetype": "text/x-python",
   "name": "python",
   "nbconvert_exporter": "python",
   "pygments_lexer": "ipython3",
   "version": "3.11.5"
  }
 },
 "nbformat": 4,
 "nbformat_minor": 5
}
